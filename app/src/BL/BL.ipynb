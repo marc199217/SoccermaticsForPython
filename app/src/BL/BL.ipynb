{
 "cells": [
  {
   "cell_type": "code",
   "execution_count": 1,
   "id": "amino-rwanda",
   "metadata": {},
   "outputs": [],
   "source": [
    "import pandas as pd\n",
    "import numpy as np\n",
    "import matplotlib.pyplot as plt"
   ]
  },
  {
   "cell_type": "code",
   "execution_count": 2,
   "id": "revolutionary-consumption",
   "metadata": {},
   "outputs": [],
   "source": [
    "df = pd.read_excel(\"Documents/GitHub/SoccermaticsForPython/BL/BL.xlsx\", skiprows=1, nrows=36,usecols=\"A:K\")"
   ]
  },
  {
   "cell_type": "code",
   "execution_count": 3,
   "id": "warming-sense",
   "metadata": {},
   "outputs": [
    {
     "name": "stdout",
     "output_type": "stream",
     "text": [
      "0      6.0\n",
      "1      8.0\n",
      "2     10.0\n",
      "3      0.0\n",
      "4      7.0\n",
      "5     14.0\n",
      "6     10.0\n",
      "7      3.0\n",
      "8     15.0\n",
      "9      0.0\n",
      "10    12.0\n",
      "11    13.0\n",
      "12     4.0\n",
      "13     9.0\n",
      "14    17.0\n",
      "15    16.0\n",
      "16     0.0\n",
      "17     2.0\n",
      "18     3.0\n",
      "19     7.0\n",
      "20    15.0\n",
      "21    11.0\n",
      "22    10.0\n",
      "23    16.0\n",
      "24    11.0\n",
      "25     5.0\n",
      "26     9.0\n",
      "27    17.0\n",
      "28    15.0\n",
      "29    14.0\n",
      "30     6.0\n",
      "31    13.0\n",
      "32    17.0\n",
      "33     4.0\n",
      "34     2.0\n",
      "35    12.0\n",
      "Name: Sporting_BL_inverse, dtype: float64\n",
      "<class 'pandas.core.frame.DataFrame'>\n",
      "RangeIndex: 36 entries, 0 to 35\n",
      "Data columns (total 11 columns):\n",
      " #   Column                               Non-Null Count  Dtype  \n",
      "---  ------                               --------------  -----  \n",
      " 0   Club name                            36 non-null     object \n",
      " 1   Year                                 36 non-null     int64  \n",
      " 2   Sporting success_BL                  36 non-null     float64\n",
      " 3   Sporting_BL_inverse                  36 non-null     float64\n",
      " 4   Sporting success_German Cup          36 non-null     object \n",
      " 5   Sporting success_German Cup_numeric  36 non-null     int64  \n",
      " 6   Transfer income                      36 non-null     float64\n",
      " 7   Transfer spend                       36 non-null     float64\n",
      " 8   Transfer balance                     36 non-null     float64\n",
      " 9   Total Revenue                        36 non-null     float64\n",
      " 10  EBIT                                 36 non-null     float64\n",
      "dtypes: float64(7), int64(2), object(2)\n",
      "memory usage: 3.2+ KB\n"
     ]
    },
    {
     "name": "stderr",
     "output_type": "stream",
     "text": [
      "/Users/marcnordbruch/.pyenv/versions/3.8.7/envs/soccermaticsforpython/lib/python3.8/site-packages/pandas/core/indexing.py:1637: SettingWithCopyWarning: \n",
      "A value is trying to be set on a copy of a slice from a DataFrame\n",
      "\n",
      "See the caveats in the documentation: https://pandas.pydata.org/pandas-docs/stable/user_guide/indexing.html#returning-a-view-versus-a-copy\n",
      "  self._setitem_single_block(indexer, value, name)\n"
     ]
    }
   ],
   "source": [
    "df[\"Sporting success_BL\"].loc[3] = 18\n",
    "df[\"Sporting success_BL\"].loc[16] = 18\n",
    "df[\"Sporting_BL_inverse\"].loc[3] = 0\n",
    "df[\"Sporting_BL_inverse\"].loc[16] = 0\n",
    "print(df[\"Sporting_BL_inverse\"])\n",
    "\n",
    "df.info()"
   ]
  },
  {
   "cell_type": "code",
   "execution_count": 4,
   "id": "geological-fitting",
   "metadata": {},
   "outputs": [
    {
     "name": "stdout",
     "output_type": "stream",
     "text": [
      "<class 'pandas.core.frame.DataFrame'>\n",
      "RangeIndex: 36 entries, 0 to 35\n",
      "Data columns (total 11 columns):\n",
      " #   Column                               Non-Null Count  Dtype         \n",
      "---  ------                               --------------  -----         \n",
      " 0   Club name                            36 non-null     object        \n",
      " 1   Year                                 36 non-null     datetime64[ns]\n",
      " 2   Sporting success_BL                  36 non-null     category      \n",
      " 3   Sporting_BL_inverse                  36 non-null     category      \n",
      " 4   Sporting success_German Cup          36 non-null     category      \n",
      " 5   Sporting success_German Cup_numeric  36 non-null     category      \n",
      " 6   Transfer income                      36 non-null     float64       \n",
      " 7   Transfer spend                       36 non-null     float64       \n",
      " 8   Transfer balance                     36 non-null     float64       \n",
      " 9   Total Revenue                        36 non-null     float64       \n",
      " 10  EBIT                                 36 non-null     float64       \n",
      "dtypes: category(4), datetime64[ns](1), float64(5), object(1)\n",
      "memory usage: 4.3+ KB\n"
     ]
    }
   ],
   "source": [
    "df[\"Year\"]=df[\"Year\"].astype(\"int\")\n",
    "df[\"Year\"]=pd.to_datetime(df[\"Year\"])\n",
    "df[\"Sporting success_BL\"]=df[\"Sporting success_BL\"].astype(\"category\")\n",
    "df[\"Sporting_BL_inverse\"]=df[\"Sporting_BL_inverse\"].astype(\"category\")\n",
    "df[\"Sporting success_German Cup\"]=df[\"Sporting success_German Cup\"].astype(\"category\")\n",
    "df[\"Sporting success_German Cup_numeric\"]=df[\"Sporting success_German Cup_numeric\"].astype(\"category\")\n",
    "df.info()"
   ]
  },
  {
   "cell_type": "code",
   "execution_count": 5,
   "id": "saved-peoples",
   "metadata": {},
   "outputs": [
    {
     "name": "stdout",
     "output_type": "stream",
     "text": [
      "0    1970-01-01 00:00:00.000002018\n",
      "1    1970-01-01 00:00:00.000002018\n",
      "2    1970-01-01 00:00:00.000002018\n",
      "3    1970-01-01 00:00:00.000002018\n",
      "4    1970-01-01 00:00:00.000002018\n",
      "5    1970-01-01 00:00:00.000002018\n",
      "6    1970-01-01 00:00:00.000002018\n",
      "7    1970-01-01 00:00:00.000002018\n",
      "8    1970-01-01 00:00:00.000002018\n",
      "9    1970-01-01 00:00:00.000002018\n",
      "10   1970-01-01 00:00:00.000002018\n",
      "11   1970-01-01 00:00:00.000002018\n",
      "12   1970-01-01 00:00:00.000002018\n",
      "13   1970-01-01 00:00:00.000002018\n",
      "14   1970-01-01 00:00:00.000002018\n",
      "15   1970-01-01 00:00:00.000002018\n",
      "16   1970-01-01 00:00:00.000002018\n",
      "17   1970-01-01 00:00:00.000002018\n",
      "18   1970-01-01 00:00:00.000002019\n",
      "19   1970-01-01 00:00:00.000002019\n",
      "20   1970-01-01 00:00:00.000002019\n",
      "21   1970-01-01 00:00:00.000002019\n",
      "22   1970-01-01 00:00:00.000002019\n",
      "23   1970-01-01 00:00:00.000002019\n",
      "24   1970-01-01 00:00:00.000002019\n",
      "25   1970-01-01 00:00:00.000002019\n",
      "26   1970-01-01 00:00:00.000002019\n",
      "27   1970-01-01 00:00:00.000002019\n",
      "28   1970-01-01 00:00:00.000002019\n",
      "29   1970-01-01 00:00:00.000002019\n",
      "30   1970-01-01 00:00:00.000002019\n",
      "31   1970-01-01 00:00:00.000002019\n",
      "32   1970-01-01 00:00:00.000002019\n",
      "33   1970-01-01 00:00:00.000002019\n",
      "34   1970-01-01 00:00:00.000002019\n",
      "35   1970-01-01 00:00:00.000002019\n",
      "Name: Year, dtype: datetime64[ns]\n"
     ]
    }
   ],
   "source": [
    "print(df.Year)"
   ]
  },
  {
   "cell_type": "code",
   "execution_count": null,
   "id": "composed-employee",
   "metadata": {},
   "outputs": [],
   "source": []
  },
  {
   "cell_type": "code",
   "execution_count": null,
   "id": "entire-underground",
   "metadata": {},
   "outputs": [],
   "source": []
  }
 ],
 "metadata": {
  "kernelspec": {
   "display_name": "Python 3",
   "language": "python",
   "name": "python3"
  },
  "language_info": {
   "codemirror_mode": {
    "name": "ipython",
    "version": 3
   },
   "file_extension": ".py",
   "mimetype": "text/x-python",
   "name": "python",
   "nbconvert_exporter": "python",
   "pygments_lexer": "ipython3",
   "version": "3.8.7"
  }
 },
 "nbformat": 4,
 "nbformat_minor": 5
}
